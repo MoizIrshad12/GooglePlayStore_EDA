{
 "cells": [
  {
   "cell_type": "markdown",
   "id": "3c23b97b",
   "metadata": {},
   "source": [
    "# About Data \n",
    "Google_play_Store_Data"
   ]
  },
  {
   "cell_type": "markdown",
   "id": "b88a2824",
   "metadata": {},
   "source": [
    "# Objectives\n",
    "- To clean and understand the basic structure of the Google Play Store dataset.\n",
    "- To explore and visualize trends in app categories, ratings, installs, and pricing.\n",
    "- To identify top apps and developers and analyze relationships between key features.\n"
   ]
  },
  {
   "cell_type": "markdown",
   "id": "05476b1c",
   "metadata": {},
   "source": [
    "# kernel Used\n",
    "3.13.5"
   ]
  },
  {
   "cell_type": "markdown",
   "id": "baa7ad27",
   "metadata": {},
   "source": [
    " # Importing Libraries"
   ]
  },
  {
   "cell_type": "code",
   "execution_count": null,
   "id": "696165f1",
   "metadata": {},
   "outputs": [],
   "source": [
    "import pandas as pd\n",
    "import numpy as np\n",
    "import matplotlib.pyplot as plt\n",
    "import seaborn as sns\n",
    "%matplotlib inline\n"
   ]
  },
  {
   "cell_type": "markdown",
   "id": "d8aad08b",
   "metadata": {},
   "source": [
    "Data Loading and Exploration| Cleaning"
   ]
  },
  {
   "cell_type": "code",
   "execution_count": null,
   "id": "d44688bb",
   "metadata": {},
   "outputs": [],
   "source": [
    "data=pd.read_csv(r\"\\Users\\Assasin\\OneDrive\\Desktop\\Project1\\venv\\googleplaystore.csv\")"
   ]
  },
  {
   "cell_type": "markdown",
   "id": "d8063416",
   "metadata": {},
   "source": [
    "Top Five Rows of the Data"
   ]
  },
  {
   "cell_type": "code",
   "execution_count": null,
   "id": "2c8aef41",
   "metadata": {},
   "outputs": [],
   "source": [
    "data.head(5)"
   ]
  },
  {
   "cell_type": "code",
   "execution_count": null,
   "id": "eb10bdc1",
   "metadata": {},
   "outputs": [],
   "source": [
    "#Set Options to be maximum For rows and columns\n",
    "pd.set_option('display.max_columns',None)\n",
    "pd.set_option('display.max_rows',None)"
   ]
  },
  {
   "cell_type": "markdown",
   "id": "a8828912",
   "metadata": {},
   "source": [
    "Handles Warnings "
   ]
  },
  {
   "cell_type": "code",
   "execution_count": null,
   "id": "98eb582f",
   "metadata": {},
   "outputs": [],
   "source": [
    "import warnings\n",
    "warnings.filterwarnings('ignore')"
   ]
  },
  {
   "cell_type": "code",
   "execution_count": null,
   "id": "f416eed7",
   "metadata": {},
   "outputs": [],
   "source": [
    "print(f\"The name of the column in Dataset are:{data.columns}\")"
   ]
  },
  {
   "cell_type": "code",
   "execution_count": null,
   "id": "74420696",
   "metadata": {},
   "outputs": [],
   "source": [
    "print(f\"The total numbers of rows are:{data.shape[0]}\")\n",
    "print(f\"The total numbers of Columns are:{data.shape[1]}\")"
   ]
  },
  {
   "cell_type": "code",
   "execution_count": null,
   "id": "9de7cf3e",
   "metadata": {},
   "outputs": [],
   "source": [
    "data.info()"
   ]
  },
  {
   "cell_type": "code",
   "execution_count": null,
   "id": "c2ac05ee",
   "metadata": {},
   "outputs": [],
   "source": [
    "data.describe()"
   ]
  },
  {
   "cell_type": "code",
   "execution_count": null,
   "id": "d3c04b05",
   "metadata": {},
   "outputs": [],
   "source": [
    "data.head(5)"
   ]
  },
  {
   "cell_type": "markdown",
   "id": "d105fbfe",
   "metadata": {},
   "source": [
    "How To Make Size a Numeric Column"
   ]
  },
  {
   "cell_type": "code",
   "execution_count": null,
   "id": "38e56595",
   "metadata": {},
   "outputs": [],
   "source": [
    "data['Size'].unique()"
   ]
  },
  {
   "cell_type": "markdown",
   "id": "2320d2e2",
   "metadata": {},
   "source": [
    "Observations"
   ]
  },
  {
   "cell_type": "markdown",
   "id": "e2dfb229",
   "metadata": {},
   "source": [
    "1.Varies With device\n",
    "2.M\n",
    "3.K"
   ]
  },
  {
   "cell_type": "code",
   "execution_count": null,
   "id": "a37a4ddb",
   "metadata": {},
   "outputs": [],
   "source": [
    "data['Size'].isnull().sum()"
   ]
  },
  {
   "cell_type": "markdown",
   "id": "4dc2fd22",
   "metadata": {},
   "source": [
    "No Missing values in Size "
   ]
  },
  {
   "cell_type": "code",
   "execution_count": null,
   "id": "bddb1f51",
   "metadata": {},
   "outputs": [],
   "source": [
    "#find the values having M in them\n",
    "data['Size'].loc[data['Size'].str.contains('M','m')].value_counts().sum()"
   ]
  },
  {
   "cell_type": "code",
   "execution_count": null,
   "id": "d4e81551",
   "metadata": {},
   "outputs": [],
   "source": [
    "#find the value having varies with device in them\n",
    "data['Size'].loc[data['Size'].str.contains('Varies with device','varies with device')].value_counts().sum()"
   ]
  },
  {
   "cell_type": "code",
   "execution_count": null,
   "id": "7d8f4da6",
   "metadata": {},
   "outputs": [],
   "source": [
    "#find the value having k in them\n",
    "data['Size'].loc[data['Size'].str.contains('k','K')].value_counts().sum()"
   ]
  },
  {
   "cell_type": "code",
   "execution_count": null,
   "id": "f2c90f5e",
   "metadata": {},
   "outputs": [],
   "source": [
    "data.shape"
   ]
  },
  {
   "cell_type": "code",
   "execution_count": null,
   "id": "ce90d8bd",
   "metadata": {},
   "outputs": [],
   "source": [
    "data['Size'].isnull().sum()"
   ]
  },
  {
   "cell_type": "markdown",
   "id": "d7bca8a2",
   "metadata": {},
   "source": [
    "Converting Whole Size in numeric"
   ]
  },
  {
   "cell_type": "code",
   "execution_count": null,
   "id": "742cb338",
   "metadata": {},
   "outputs": [],
   "source": [
    "#making a function \n",
    "def convert_size(Size):\n",
    "    if isinstance(Size,str):\n",
    "        if 'M' in Size:\n",
    "             return float(Size.replace(\"M\",\"\"))*1024*1024\n",
    "        elif'k' in Size:\n",
    "            return float(Size.replace(\"k\",\"\"))*1024\n",
    "        elif\"Varies with device\" in Size:\n",
    "            return np.nan\n",
    "    return Size"
   ]
  },
  {
   "cell_type": "code",
   "execution_count": null,
   "id": "8dec97ca",
   "metadata": {},
   "outputs": [],
   "source": [
    "data[\"Size\"] = data[\"Size\"].apply(convert_size)"
   ]
  },
  {
   "cell_type": "code",
   "execution_count": null,
   "id": "e38e6ecf",
   "metadata": {},
   "outputs": [],
   "source": [
    "data.head(3)"
   ]
  },
  {
   "cell_type": "code",
   "execution_count": null,
   "id": "096b1463",
   "metadata": {},
   "outputs": [],
   "source": [
    "data[\"Size\"]"
   ]
  },
  {
   "cell_type": "code",
   "execution_count": null,
   "id": "6bb65b9e",
   "metadata": {},
   "outputs": [],
   "source": [
    "#Rename The Column \n",
    "data.rename(columns={\"Size\":\"Size_in_Bytes\"},inplace=True)"
   ]
  },
  {
   "cell_type": "code",
   "execution_count": null,
   "id": "a01d81b3",
   "metadata": {},
   "outputs": [],
   "source": [
    "data.head(2)"
   ]
  },
  {
   "cell_type": "markdown",
   "id": "02aabf5f",
   "metadata": {},
   "source": [
    "Now let's Take care Of Installs"
   ]
  },
  {
   "cell_type": "code",
   "execution_count": null,
   "id": "d3c26807",
   "metadata": {},
   "outputs": [],
   "source": [
    "data['Installs'].unique()"
   ]
  },
  {
   "cell_type": "code",
   "execution_count": null,
   "id": "98ed88fa",
   "metadata": {},
   "outputs": [],
   "source": [
    "data['Installs'].isnull().sum()"
   ]
  },
  {
   "cell_type": "markdown",
   "id": "4b29c399",
   "metadata": {},
   "source": [
    "Installs Column:\n",
    "1.Remove + Sign \n",
    "2.Remove ,\n",
    "3.Convert it into integer\n"
   ]
  },
  {
   "cell_type": "code",
   "execution_count": null,
   "id": "266d7198",
   "metadata": {},
   "outputs": [],
   "source": [
    "data['Installs']=data['Installs'].apply(lambda x:x.replace('+','') if '+'in str(x) else x)"
   ]
  },
  {
   "cell_type": "code",
   "execution_count": null,
   "id": "0916748f",
   "metadata": {},
   "outputs": [],
   "source": [
    "data['Installs']=data['Installs'].apply(lambda x:x.replace(',','') if ','in str(x) else x)"
   ]
  },
  {
   "cell_type": "code",
   "execution_count": null,
   "id": "10dbf1e8",
   "metadata": {},
   "outputs": [],
   "source": [
    "#We have one value \"Free\" so we replcae it with 0\n",
    "data['Installs'] = data['Installs'].replace(\"Free\", \"0\")\n",
    "data['Installs'] = data['Installs'].astype(int)"
   ]
  },
  {
   "cell_type": "code",
   "execution_count": null,
   "id": "c05d341f",
   "metadata": {},
   "outputs": [],
   "source": [
    "data['Installs']=data['Installs'].apply(lambda x:int(x))"
   ]
  },
  {
   "cell_type": "code",
   "execution_count": null,
   "id": "ef4e412d",
   "metadata": {},
   "outputs": [],
   "source": [
    "data['Installs'].value_counts()"
   ]
  },
  {
   "cell_type": "code",
   "execution_count": null,
   "id": "7f9fb4ef",
   "metadata": {},
   "outputs": [],
   "source": [
    "data.describe()"
   ]
  },
  {
   "cell_type": "markdown",
   "id": "df664565",
   "metadata": {},
   "source": [
    "Price Column"
   ]
  },
  {
   "cell_type": "code",
   "execution_count": null,
   "id": "54fc4152",
   "metadata": {},
   "outputs": [],
   "source": [
    "data['Price'].value_counts()"
   ]
  },
  {
   "cell_type": "code",
   "execution_count": null,
   "id": "7eb57114",
   "metadata": {},
   "outputs": [],
   "source": [
    "#Let's Have a Look how many values have $ sign \n",
    "data[\"Price\"].loc[data[\"Price\"].str.contains(\"$\")].value_counts().sum()"
   ]
  },
  {
   "cell_type": "code",
   "execution_count": null,
   "id": "a4b6d1f7",
   "metadata": {},
   "outputs": [],
   "source": [
    "data['Price'] = data['Price'].str.replace('\\$', '', regex=True)\n",
    "data['Price'] = data['Price'].replace(\"Everyone\", \"0\")\n",
    "data['Price'] = data['Price'].astype(float)\n"
   ]
  },
  {
   "cell_type": "code",
   "execution_count": null,
   "id": "f06b7af2",
   "metadata": {},
   "outputs": [],
   "source": [
    "data['Price'].value_counts()"
   ]
  },
  {
   "cell_type": "code",
   "execution_count": null,
   "id": "baa38536",
   "metadata": {},
   "outputs": [],
   "source": [
    "data['Price']=data['Price'].apply(lambda x:float(x))"
   ]
  },
  {
   "cell_type": "code",
   "execution_count": null,
   "id": "ad5df068",
   "metadata": {},
   "outputs": [],
   "source": [
    "data[\"Price\"].value_counts()"
   ]
  },
  {
   "cell_type": "code",
   "execution_count": null,
   "id": "aeaee0a9",
   "metadata": {},
   "outputs": [],
   "source": [
    "data['Price'] = pd.to_numeric(data['Price'], errors='coerce').astype(float)"
   ]
  },
  {
   "cell_type": "code",
   "execution_count": null,
   "id": "e33f9fbb",
   "metadata": {},
   "outputs": [],
   "source": [
    "data[\"Price\"].value_counts()"
   ]
  },
  {
   "cell_type": "code",
   "execution_count": null,
   "id": "b23b6df8",
   "metadata": {},
   "outputs": [],
   "source": [
    "data.describe()"
   ]
  },
  {
   "cell_type": "markdown",
   "id": "6c8200da",
   "metadata": {},
   "source": [
    "Reviews Column"
   ]
  },
  {
   "cell_type": "code",
   "execution_count": null,
   "id": "058422a5",
   "metadata": {},
   "outputs": [],
   "source": [
    "data[\"Reviews\"].value_counts()"
   ]
  },
  {
   "cell_type": "code",
   "execution_count": null,
   "id": "9ac4fbd2",
   "metadata": {},
   "outputs": [],
   "source": [
    "data[\"Reviews\"].isnull().sum()"
   ]
  },
  {
   "cell_type": "markdown",
   "id": "e51f896f",
   "metadata": {},
   "source": [
    "Making Reviews Numeric"
   ]
  },
  {
   "cell_type": "code",
   "execution_count": null,
   "id": "4066c596",
   "metadata": {},
   "outputs": [],
   "source": [
    "data['Reviews'] = pd.to_numeric(data['Reviews'], errors='coerce')"
   ]
  },
  {
   "cell_type": "code",
   "execution_count": null,
   "id": "5fe5aa5a",
   "metadata": {},
   "outputs": [],
   "source": [
    "data.describe()"
   ]
  },
  {
   "cell_type": "code",
   "execution_count": null,
   "id": "6aadb346",
   "metadata": {},
   "outputs": [],
   "source": [
    "#Print Min,max and avg values of apps\n",
    "print(f\"The Min Price is:{data[\"Price\"].min()}\")\n",
    "print(f\"The Max Price is:{data[\"Price\"].max()}\")\n",
    "print(f\"The avg Price is:{data[\"Price\"].mean()}\")"
   ]
  },
  {
   "cell_type": "markdown",
   "id": "e2645501",
   "metadata": {},
   "source": [
    "Missing Values "
   ]
  },
  {
   "cell_type": "code",
   "execution_count": null,
   "id": "b95be12b",
   "metadata": {},
   "outputs": [],
   "source": [
    "data.isnull().sum()"
   ]
  },
  {
   "cell_type": "code",
   "execution_count": null,
   "id": "b0866672",
   "metadata": {},
   "outputs": [],
   "source": [
    "data['Size_in_Bytes'] = pd.to_numeric(data['Size_in_Bytes'], errors='coerce')"
   ]
  },
  {
   "cell_type": "markdown",
   "id": "37d9b1c2",
   "metadata": {},
   "source": [
    "Filling Null vales with mean in Size Column "
   ]
  },
  {
   "cell_type": "code",
   "execution_count": null,
   "id": "a99c0a47",
   "metadata": {},
   "outputs": [],
   "source": [
    "data['Size_in_Bytes'] = data['Size_in_Bytes'].fillna(data['Size_in_Bytes'].median())"
   ]
  },
  {
   "cell_type": "code",
   "execution_count": null,
   "id": "0f39eaf7",
   "metadata": {},
   "outputs": [],
   "source": [
    "data['Size_in_Bytes'].isnull().sum()"
   ]
  },
  {
   "cell_type": "markdown",
   "id": "1f2127f1",
   "metadata": {},
   "source": [
    "Now we will Handle Reviews column:"
   ]
  },
  {
   "cell_type": "code",
   "execution_count": null,
   "id": "8ad89d8d",
   "metadata": {},
   "outputs": [],
   "source": [
    "data['Rating'] = data['Rating'].fillna(data['Rating'].median())"
   ]
  },
  {
   "cell_type": "code",
   "execution_count": null,
   "id": "7c76e5a5",
   "metadata": {},
   "outputs": [],
   "source": [
    "data[\"Rating\"].isnull().sum()"
   ]
  },
  {
   "cell_type": "markdown",
   "id": "0a355e33",
   "metadata": {},
   "source": [
    "Droping Multiple Column Missing values beacuse we have a very Low missing vallues:"
   ]
  },
  {
   "cell_type": "code",
   "execution_count": null,
   "id": "e9365e2b",
   "metadata": {},
   "outputs": [],
   "source": [
    "data = data.dropna(subset=['Type', 'Content Rating', 'Current Ver', 'Android Ver'])"
   ]
  },
  {
   "cell_type": "code",
   "execution_count": null,
   "id": "b1b0952b",
   "metadata": {},
   "outputs": [],
   "source": [
    "data.isnull().sum()"
   ]
  },
  {
   "cell_type": "code",
   "execution_count": null,
   "id": "a139b71a",
   "metadata": {},
   "outputs": [],
   "source": [
    "data['Installs'].value_counts().head(5)"
   ]
  },
  {
   "cell_type": "markdown",
   "id": "73692f74",
   "metadata": {},
   "source": [
    "Age Vise Rating"
   ]
  },
  {
   "cell_type": "code",
   "execution_count": null,
   "id": "18ecdb8a",
   "metadata": {},
   "outputs": [],
   "source": [
    "data['Content Rating'].value_counts()"
   ]
  },
  {
   "cell_type": "markdown",
   "id": "e0feac54",
   "metadata": {},
   "source": [
    "Free Vs Paid Apps"
   ]
  },
  {
   "cell_type": "code",
   "execution_count": null,
   "id": "53f92031",
   "metadata": {},
   "outputs": [],
   "source": [
    "data['Type'].value_counts()"
   ]
  },
  {
   "cell_type": "markdown",
   "id": "8a2fadc8",
   "metadata": {},
   "source": [
    "Reviews Analysis"
   ]
  },
  {
   "cell_type": "code",
   "execution_count": null,
   "id": "f4f18637",
   "metadata": {},
   "outputs": [],
   "source": [
    "print(\"Max Reviews:\", data['Reviews'].max())\n",
    "print(\"Average Reviews:\", data['Reviews'].mean())"
   ]
  },
  {
   "cell_type": "markdown",
   "id": "6a237258",
   "metadata": {},
   "source": [
    "Apps Size in Bytes"
   ]
  },
  {
   "cell_type": "code",
   "execution_count": null,
   "id": "3607358f",
   "metadata": {},
   "outputs": [],
   "source": [
    "print(\"Average Size (bytes):\", data['Size_in_Bytes'].mean())\n",
    "print(\"Max Size:\", data['Size_in_Bytes'].max())\n",
    "print(\"Min Size:\", data['Size_in_Bytes'].min())"
   ]
  },
  {
   "cell_type": "markdown",
   "id": "c1c75264",
   "metadata": {},
   "source": [
    "Correlation between Installs and Reviews "
   ]
  },
  {
   "cell_type": "code",
   "execution_count": null,
   "id": "17cd91c5",
   "metadata": {},
   "outputs": [],
   "source": [
    "correlation = data['Reviews'].corr(data['Installs'])\n",
    "print(\"Correlation between Reviews and Installs:\", correlation)"
   ]
  },
  {
   "cell_type": "code",
   "execution_count": null,
   "id": "7439b421",
   "metadata": {},
   "outputs": [],
   "source": [
    "# Correlation between Price and Installs\n",
    "correlation = data['Price'].corr(data['Installs'])\n",
    "print(\"Correlation between Price and Installs:\", correlation)"
   ]
  },
  {
   "cell_type": "code",
   "execution_count": null,
   "id": "db40aa65",
   "metadata": {},
   "outputs": [],
   "source": [
    "# Correlation between Rating and Installs\n",
    "correlation = data['Rating'].corr(data['Installs'])\n",
    "print(\"Correlation between Rating and Installs:\", correlation)"
   ]
  },
  {
   "cell_type": "markdown",
   "id": "42bedb4b",
   "metadata": {},
   "source": [
    "# Data visualization"
   ]
  },
  {
   "cell_type": "code",
   "execution_count": null,
   "id": "f11cb092",
   "metadata": {},
   "outputs": [],
   "source": [
    "import matplotlib.pyplot as plt\n",
    "import seaborn as sns\n",
    "\n",
    "# Top 10 categories\n",
    "top_categories = data['Category'].value_counts().head(10)\n",
    "top_categories.plot(kind='bar', figsize=(10,5))\n",
    "plt.title(\"Top 10 App Categories on Google Play Store\")\n",
    "plt.xlabel(\"Category\")\n",
    "plt.ylabel(\"Number of Apps\")\n",
    "plt.show()\n"
   ]
  },
  {
   "cell_type": "markdown",
   "id": "642bcbbb",
   "metadata": {},
   "source": [
    "# Free vs Paid Apps"
   ]
  },
  {
   "cell_type": "code",
   "execution_count": null,
   "id": "d54a8141",
   "metadata": {},
   "outputs": [],
   "source": [
    "sns.countplot(x='Type', data=data)\n",
    "plt.title(\"Free vs Paid Apps\")\n",
    "plt.show()\n"
   ]
  },
  {
   "cell_type": "markdown",
   "id": "40186927",
   "metadata": {},
   "source": [
    "# Rating vs Category (Boxplot)"
   ]
  },
  {
   "cell_type": "code",
   "execution_count": null,
   "id": "f0565952",
   "metadata": {},
   "outputs": [],
   "source": [
    "plt.figure(figsize=(12,6))\n",
    "sns.boxplot(x='Category', y='Rating', data=data)\n",
    "plt.xticks(rotation=90)\n",
    "plt.title(\"App Ratings by Category\")\n",
    "plt.show()\n"
   ]
  },
  {
   "cell_type": "markdown",
   "id": "3087f10b",
   "metadata": {},
   "source": [
    "# Top 10 Most Expensive Paid Apps"
   ]
  },
  {
   "cell_type": "code",
   "execution_count": null,
   "id": "d1e5f430",
   "metadata": {},
   "outputs": [],
   "source": [
    "top_expensive = data[data['Type']=='Paid'].sort_values(by='Price', ascending=False).head(10)\n",
    "sns.barplot(x='Price', y='App', data=top_expensive)\n",
    "plt.title(\"Top 10 Most Expensive Paid Apps\")\n",
    "plt.xlabel(\"Price ($)\")\n",
    "plt.ylabel(\"App Name\")\n",
    "plt.show()\n"
   ]
  }
 ],
 "metadata": {
  "kernelspec": {
   "display_name": "venv",
   "language": "python",
   "name": "python3"
  },
  "language_info": {
   "codemirror_mode": {
    "name": "ipython",
    "version": 3
   },
   "file_extension": ".py",
   "mimetype": "text/x-python",
   "name": "python",
   "nbconvert_exporter": "python",
   "pygments_lexer": "ipython3",
   "version": "3.13.5"
  }
 },
 "nbformat": 4,
 "nbformat_minor": 5
}
